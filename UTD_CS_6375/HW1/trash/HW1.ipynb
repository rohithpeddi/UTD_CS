{
 "cells": [
  {
   "cell_type": "code",
   "execution_count": 1,
   "metadata": {},
   "outputs": [],
   "source": [
    "import pandas as pd\n",
    "import numpy as np"
   ]
  },
  {
   "cell_type": "markdown",
   "metadata": {},
   "source": [
    "#### LOAD THE DATA "
   ]
  },
  {
   "cell_type": "code",
   "execution_count": 17,
   "metadata": {},
   "outputs": [],
   "source": [
    "data = pd.read_csv(\"perceptron.data\", names=[\"X1\",\"X2\",\"X3\",\"X4\",\"Y\"])"
   ]
  },
  {
   "cell_type": "markdown",
   "metadata": {},
   "source": [
    "#### PARAMETERS"
   ]
  },
  {
   "cell_type": "code",
   "execution_count": 81,
   "metadata": {},
   "outputs": [],
   "source": [
    "W = [1,1,1,1,1]\n",
    "weight_list = []\n",
    "bias_list = []\n",
    "standard_gradients = []"
   ]
  },
  {
   "cell_type": "markdown",
   "metadata": {},
   "source": [
    "## GRADIENT DESCENT"
   ]
  },
  {
   "cell_type": "markdown",
   "metadata": {},
   "source": [
    "##### CODE TO INCLUDE BIAS IN WEIGHT VECTOR"
   ]
  },
  {
   "cell_type": "code",
   "execution_count": 18,
   "metadata": {},
   "outputs": [],
   "source": [
    "# Modifying data to include feature x=1 for all the weights and preparing feature input and output data\n",
    "data.insert(4, 'Xb', 1)"
   ]
  },
  {
   "cell_type": "code",
   "execution_count": 82,
   "metadata": {},
   "outputs": [],
   "source": [
    "X = data[data.columns[0:5]].values\n",
    "Y = data[['Y']].values"
   ]
  },
  {
   "cell_type": "code",
   "execution_count": 83,
   "metadata": {},
   "outputs": [
    {
     "data": {
      "text/plain": [
       "array([[ 0,  0, -1, ..., -1, -1, -1],\n",
       "       [ 0,  0, -1, ..., -1, -1, -1],\n",
       "       [ 0,  0, -1, ..., -1, -1, -1],\n",
       "       ..., \n",
       "       [ 0,  0,  1, ...,  1,  1,  1],\n",
       "       [ 0,  0, -1, ..., -1, -1, -1],\n",
       "       [ 0,  0, -1, ..., -1, -1, -1]])"
      ]
     },
     "execution_count": 83,
     "metadata": {},
     "output_type": "execute_result"
    }
   ],
   "source": [
    "condition = lambda x: 1 if x[0] >= 0 else 0\n",
    "Con = np.apply_along_axis(condition, 1, (-1*Y*( np.reshape(np.matmul(X,W),(-1, 1)) )))\n",
    "A = Con*Y\n",
    "A\n",
    "#W = W + step_size * ((Con*Y))"
   ]
  },
  {
   "cell_type": "markdown",
   "metadata": {},
   "source": [
    "##### APPLYING STANDARD GRADIENT DESCENT STRATEGY"
   ]
  },
  {
   "cell_type": "code",
   "execution_count": null,
   "metadata": {},
   "outputs": [],
   "source": [
    "condition = lambda x: 1 if x > 0 else 0\n",
    "\n",
    "def StandardGradientDescent(step_size, precision):\n",
    "    while any(W > precision):\n",
    "        Con = np.apply_along_axis(condition, 1, (-1*Y*( np.reshape(np.matmul(X,W),(-1, 1)) )))\n",
    "        W = W + step_size * (Y*)\n",
    "    "
   ]
  },
  {
   "cell_type": "markdown",
   "metadata": {},
   "source": [
    "##### APPLYING STOCHASTIC GRADIENT DESCENT"
   ]
  },
  {
   "cell_type": "code",
   "execution_count": null,
   "metadata": {},
   "outputs": [],
   "source": [
    "def StochasticGradientDescent(step_size, precision):\n",
    "    "
   ]
  },
  {
   "cell_type": "code",
   "execution_count": null,
   "metadata": {},
   "outputs": [],
   "source": [
    "def GradientDescent(step_size, batch_size, precision):    \n",
    "    if all(summation()<=precision) and (summation_b()<=precision):\n",
    "        return\n",
    "    w0+=step_size*summation()\n",
    "    w_list.append(w0)\n",
    "    b+=step_size*summation_b()\n",
    "    b_list.append(b)\n",
    "    data['calc'] = data.apply(lambda x: 1 if(-1*x.values[4]*(np.dot(x.values[:4],np.array(w0))+b))>=0 else 0,axis =1)\n",
    "    GradientDescent(w0,b,step_size,data)"
   ]
  },
  {
   "cell_type": "markdown",
   "metadata": {},
   "source": [
    "#### VARYING STEP SIZE"
   ]
  },
  {
   "cell_type": "code",
   "execution_count": null,
   "metadata": {},
   "outputs": [],
   "source": []
  },
  {
   "cell_type": "markdown",
   "metadata": {},
   "source": [
    "#### WEIGHTS PLOT"
   ]
  },
  {
   "cell_type": "code",
   "execution_count": null,
   "metadata": {},
   "outputs": [],
   "source": []
  },
  {
   "cell_type": "markdown",
   "metadata": {},
   "source": [
    "#### BIAS PLOT"
   ]
  },
  {
   "cell_type": "code",
   "execution_count": null,
   "metadata": {},
   "outputs": [],
   "source": []
  },
  {
   "cell_type": "markdown",
   "metadata": {},
   "source": [
    "#### STEP SIZE V/S ITERATIONS (STANDARD GRADIENT DESCENT)"
   ]
  },
  {
   "cell_type": "code",
   "execution_count": null,
   "metadata": {},
   "outputs": [],
   "source": []
  },
  {
   "cell_type": "markdown",
   "metadata": {},
   "source": [
    "#### STEP SIZE V/S ITERATIONS (STOCHASTIC GRADIENT DESCENT)"
   ]
  },
  {
   "cell_type": "code",
   "execution_count": null,
   "metadata": {},
   "outputs": [],
   "source": []
  }
 ],
 "metadata": {
  "kernelspec": {
   "display_name": "Python 2",
   "language": "python",
   "name": "python2"
  },
  "language_info": {
   "codemirror_mode": {
    "name": "ipython",
    "version": 2
   },
   "file_extension": ".py",
   "mimetype": "text/x-python",
   "name": "python",
   "nbconvert_exporter": "python",
   "pygments_lexer": "ipython2",
   "version": "2.7.17"
  }
 },
 "nbformat": 4,
 "nbformat_minor": 2
}
