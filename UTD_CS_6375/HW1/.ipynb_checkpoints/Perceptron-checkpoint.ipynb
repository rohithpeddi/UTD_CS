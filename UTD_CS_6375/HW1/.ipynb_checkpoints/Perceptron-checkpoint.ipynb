{
 "cells": [
  {
   "cell_type": "code",
   "execution_count": 14,
   "metadata": {},
   "outputs": [],
   "source": [
    "import pandas as pd\n",
    "import numpy as np"
   ]
  },
  {
   "cell_type": "code",
   "execution_count": 32,
   "metadata": {},
   "outputs": [],
   "source": [
    "data =pd.read_csv(r\"C:\\Users\\miriy\\Downloads\\perceptron.data\", names=[\"X1\",\"X2\",\"X3\",\"X4\",\"Y\"])"
   ]
  },
  {
   "cell_type": "code",
   "execution_count": 33,
   "metadata": {},
   "outputs": [
    {
     "data": {
      "text/html": [
       "<div>\n",
       "<style scoped>\n",
       "    .dataframe tbody tr th:only-of-type {\n",
       "        vertical-align: middle;\n",
       "    }\n",
       "\n",
       "    .dataframe tbody tr th {\n",
       "        vertical-align: top;\n",
       "    }\n",
       "\n",
       "    .dataframe thead th {\n",
       "        text-align: right;\n",
       "    }\n",
       "</style>\n",
       "<table border=\"1\" class=\"dataframe\">\n",
       "  <thead>\n",
       "    <tr style=\"text-align: right;\">\n",
       "      <th></th>\n",
       "      <th>X1</th>\n",
       "      <th>X2</th>\n",
       "      <th>X3</th>\n",
       "      <th>X4</th>\n",
       "      <th>Y</th>\n",
       "    </tr>\n",
       "  </thead>\n",
       "  <tbody>\n",
       "    <tr>\n",
       "      <th>0</th>\n",
       "      <td>-4.617544</td>\n",
       "      <td>-2.469679</td>\n",
       "      <td>-1.967661</td>\n",
       "      <td>1.813356</td>\n",
       "      <td>-1</td>\n",
       "    </tr>\n",
       "    <tr>\n",
       "      <th>1</th>\n",
       "      <td>-1.110969</td>\n",
       "      <td>-2.592820</td>\n",
       "      <td>1.149165</td>\n",
       "      <td>0.572509</td>\n",
       "      <td>-1</td>\n",
       "    </tr>\n",
       "    <tr>\n",
       "      <th>2</th>\n",
       "      <td>1.164321</td>\n",
       "      <td>2.300245</td>\n",
       "      <td>-0.660355</td>\n",
       "      <td>2.833743</td>\n",
       "      <td>-1</td>\n",
       "    </tr>\n",
       "    <tr>\n",
       "      <th>3</th>\n",
       "      <td>-2.518213</td>\n",
       "      <td>-3.619048</td>\n",
       "      <td>1.673304</td>\n",
       "      <td>0.030407</td>\n",
       "      <td>-1</td>\n",
       "    </tr>\n",
       "    <tr>\n",
       "      <th>4</th>\n",
       "      <td>4.821442</td>\n",
       "      <td>2.037048</td>\n",
       "      <td>2.348538</td>\n",
       "      <td>-1.683379</td>\n",
       "      <td>1</td>\n",
       "    </tr>\n",
       "  </tbody>\n",
       "</table>\n",
       "</div>"
      ],
      "text/plain": [
       "         X1        X2        X3        X4  Y\n",
       "0 -4.617544 -2.469679 -1.967661  1.813356 -1\n",
       "1 -1.110969 -2.592820  1.149165  0.572509 -1\n",
       "2  1.164321  2.300245 -0.660355  2.833743 -1\n",
       "3 -2.518213 -3.619048  1.673304  0.030407 -1\n",
       "4  4.821442  2.037048  2.348538 -1.683379  1"
      ]
     },
     "execution_count": 33,
     "metadata": {},
     "output_type": "execute_result"
    }
   ],
   "source": [
    "data.head()"
   ]
  },
  {
   "cell_type": "code",
   "execution_count": 34,
   "metadata": {},
   "outputs": [],
   "source": [
    "# train = data.loc[:800,:]\n",
    "# test = data.loc[800:,:]"
   ]
  },
  {
   "cell_type": "code",
   "execution_count": 35,
   "metadata": {},
   "outputs": [],
   "source": [
    "w0 = [0,0,0,0]\n",
    "b=0\n",
    "precision = 0.001\n",
    "step_size = 1\n",
    "w_list = []\n",
    "b_list = []\n",
    "loss=[]"
   ]
  },
  {
   "cell_type": "code",
   "execution_count": null,
   "metadata": {},
   "outputs": [],
   "source": []
  },
  {
   "cell_type": "code",
   "execution_count": 36,
   "metadata": {},
   "outputs": [],
   "source": [
    "data['calc'] = data.apply(lambda x: 1 if(-1*x.values[4]*(np.dot(x.values[:4],np.array(w0))+b))>=0 else 0,axis =1)"
   ]
  },
  {
   "cell_type": "code",
   "execution_count": 41,
   "metadata": {},
   "outputs": [],
   "source": [
    "def GradientDescent(w0,b,step_size,data):\n",
    "    if all(summation()<=precision) and (summation_b()<=precision):\n",
    "        return\n",
    "    w0+=step_size*summation()\n",
    "    w_list.append(w0)\n",
    "    b+=step_size*summation_b()\n",
    "    b_list.append(b)\n",
    "    data['calc'] = data.apply(lambda x: 1 if(-1*x.values[4]*(np.dot(x.values[:4],np.array(w0))+b))>=0 else 0,axis =1)\n",
    "    GradientDescent(w0,b,step_size,data)\n",
    "    "
   ]
  },
  {
   "cell_type": "code",
   "execution_count": 38,
   "metadata": {},
   "outputs": [],
   "source": [
    "def summation():\n",
    "    temp = data.apply(lambda x: x.values[5]*x.values[4]*x.values[:4],axis=1)\n",
    "    return sum(temp)"
   ]
  },
  {
   "cell_type": "code",
   "execution_count": 39,
   "metadata": {},
   "outputs": [],
   "source": [
    "def summation_b():\n",
    "    temp = data.apply(lambda x: x.values[5]*x.values[4],axis=1)\n",
    "    return sum(temp)"
   ]
  },
  {
   "cell_type": "code",
   "execution_count": 42,
   "metadata": {},
   "outputs": [],
   "source": [
    "GradientDescent(w0,b,step_size,data)"
   ]
  },
  {
   "cell_type": "code",
   "execution_count": 46,
   "metadata": {},
   "outputs": [
    {
     "data": {
      "text/plain": [
       "20"
      ]
     },
     "execution_count": 46,
     "metadata": {},
     "output_type": "execute_result"
    }
   ],
   "source": [
    "w_list[-1]"
   ]
  },
  {
   "cell_type": "code",
   "execution_count": 45,
   "metadata": {},
   "outputs": [
    {
     "data": {
      "text/plain": [
       "20"
      ]
     },
     "execution_count": 45,
     "metadata": {},
     "output_type": "execute_result"
    }
   ],
   "source": [
    "len(b_list)"
   ]
  },
  {
   "cell_type": "code",
   "execution_count": 47,
   "metadata": {},
   "outputs": [
    {
     "data": {
      "text/plain": [
       "[-354.0,\n",
       " -493.0,\n",
       " -625.0,\n",
       " -741.0,\n",
       " -848.0,\n",
       " -953.0,\n",
       " -1044.0,\n",
       " -1123.0,\n",
       " -1186.0,\n",
       " -1236.0,\n",
       " -1280.0,\n",
       " -1316.0,\n",
       " -1345.0,\n",
       " -1371.0,\n",
       " -1394.0,\n",
       " -1413.0,\n",
       " -1432.0,\n",
       " -1445.0,\n",
       " -1457.0,\n",
       " -1465.0]"
      ]
     },
     "execution_count": 47,
     "metadata": {},
     "output_type": "execute_result"
    }
   ],
   "source": [
    "b_list"
   ]
  },
  {
   "cell_type": "code",
   "execution_count": null,
   "metadata": {},
   "outputs": [],
   "source": []
  }
 ],
 "metadata": {
  "kernelspec": {
   "display_name": "Python 3",
   "language": "python",
   "name": "python3"
  },
  "language_info": {
   "codemirror_mode": {
    "name": "ipython",
    "version": 3
   },
   "file_extension": ".py",
   "mimetype": "text/x-python",
   "name": "python",
   "nbconvert_exporter": "python",
   "pygments_lexer": "ipython3",
   "version": "3.7.3"
  }
 },
 "nbformat": 4,
 "nbformat_minor": 2
}
